{
 "cells": [
  {
   "cell_type": "code",
   "execution_count": null,
   "metadata": {},
   "outputs": [],
   "source": [
    "import cv2\n",
    "import numpy as np\n",
    "from pathlib import Path\n",
    "from hfnet.settings import EXPER_PATH\n",
    "from notebooks.utils import plot_images, plot_matches, add_frame\n",
    "import torch\n",
    "import tensorflow as tf\n",
    "from tensorflow.python.saved_model import tag_constants\n",
    "tf.contrib.resampler  # import C++ op\n",
    "\n",
    "%load_ext autoreload\n",
    "%autoreload 2\n",
    "%matplotlib inline"
   ]
  },
  {
   "cell_type": "markdown",
   "metadata": {},
   "source": [
    "# Load query (night) and database (day) images"
   ]
  },
  {
   "cell_type": "code",
   "execution_count": null,
   "metadata": {},
   "outputs": [],
   "source": [
    "query_idx = 1  # also try with 2 and 3\n",
    "read_image = lambda n: cv2.imread('doc/demo/' + n)[:, :, ::-1]\n",
    "image_query = read_image(f'query{query_idx}.jpg')\n",
    "images_db = [read_image(f'db{i}.jpg') for i in range(1, 5)]\n",
    "\n",
    "plot_images([image_query] + images_db, dpi=50)"
   ]
  },
  {
   "cell_type": "markdown",
   "metadata": {},
   "source": [
    "# Create HF-Net model for inference"
   ]
  },
  {
   "cell_type": "code",
   "execution_count": null,
   "metadata": {},
   "outputs": [],
   "source": [
    "class HFNet:\n",
    "    def __init__(self, model_path, outputs):\n",
    "        self.session = tf.Session()\n",
    "        self.image_ph = tf.placeholder(tf.float32, shape=(None, None, 3))\n",
    "\n",
    "        net_input = tf.image.rgb_to_grayscale(self.image_ph[None])\n",
    "        tf.saved_model.loader.load(\n",
    "            self.session, [tag_constants.SERVING], str(model_path),\n",
    "            clear_devices=True,\n",
    "            input_map={'image:0': net_input})\n",
    "\n",
    "        graph = tf.get_default_graph()\n",
    "        self.outputs = {n: graph.get_tensor_by_name(n+':0')[0] for n in outputs}\n",
    "        self.nms_radius_op = graph.get_tensor_by_name('pred/simple_nms/radius:0')\n",
    "        self.num_keypoints_op = graph.get_tensor_by_name('pred/top_k_keypoints/k:0')\n",
    "        \n",
    "    def inference(self, image, nms_radius=4, num_keypoints=1000):\n",
    "        inputs = {\n",
    "            self.image_ph: image[..., ::-1].astype(np.float),\n",
    "            self.nms_radius_op: nms_radius,\n",
    "            self.num_keypoints_op: num_keypoints,\n",
    "        }\n",
    "        return self.session.run(self.outputs, feed_dict=inputs)\n",
    "\n",
    "model_path = Path(EXPER_PATH, 'saved_models/hfnet')\n",
    "outputs = ['global_descriptor', 'keypoints', 'local_descriptors']\n",
    "hfnet = HFNet(model_path, outputs)"
   ]
  },
  {
   "cell_type": "markdown",
   "metadata": {},
   "source": [
    "# Compute global descriptors and local features for query and database"
   ]
  },
  {
   "cell_type": "code",
   "execution_count": null,
   "metadata": {},
   "outputs": [],
   "source": [
    "db = [hfnet.inference(i) for i in images_db]\n",
    "global_index = np.stack([d['global_descriptor'] for d in db])\n",
    "query = hfnet.inference(image_query)"
   ]
  },
  {
   "cell_type": "markdown",
   "metadata": {},
   "source": [
    "# Perform a global search in the database"
   ]
  },
  {
   "cell_type": "code",
   "execution_count": null,
   "metadata": {},
   "outputs": [],
   "source": [
    "def compute_distance(desc1, desc2):\n",
    "    # For normalized descriptors, computing the distance is a simple matrix multiplication.\n",
    "    return 2 * (1 - desc1 @ desc2.T)"
   ]
  },
  {
   "cell_type": "code",
   "execution_count": null,
   "metadata": {},
   "outputs": [],
   "source": [
    "nearest = np.argmin(compute_distance(query['global_descriptor'], global_index))\n",
    "\n",
    "disp_db = [add_frame(im, (0, 255, 0)) if i == nearest else im\n",
    "           for i, im in enumerate(images_db)]\n",
    "plot_images([image_query] + disp_db, dpi=50)"
   ]
  },
  {
   "cell_type": "markdown",
   "metadata": {},
   "source": [
    "# Perform local matching with the retrieved image"
   ]
  },
  {
   "cell_type": "code",
   "execution_count": null,
   "metadata": {},
   "outputs": [],
   "source": [
    "def match_with_ratio_test(desc1, desc2, thresh):\n",
    "    dist = compute_distance(desc1, desc2)\n",
    "    nearest = np.argpartition(dist, 2, axis=-1)[:, :2]\n",
    "    dist_nearest = np.take_along_axis(dist, nearest, axis=-1)\n",
    "    valid_mask = dist_nearest[:, 0] <= (thresh**2)*dist_nearest[:, 1]\n",
    "    matches = np.stack([np.where(valid_mask)[0], nearest[valid_mask][:, 0]], 1)\n",
    "    return matches"
   ]
  },
  {
   "cell_type": "code",
   "execution_count": null,
   "metadata": {},
   "outputs": [],
   "source": [
    "matches = match_with_ratio_test(query['local_descriptors'],\n",
    "                                db[nearest]['local_descriptors'], 0.8)\n",
    "\n",
    "plot_matches(image_query, query['keypoints'],\n",
    "             images_db[nearest], db[nearest]['keypoints'],\n",
    "             matches, color=(0, 1, 0), dpi=50)"
   ]
  }
 ],
 "metadata": {
  "kernelspec": {
   "name": "python3613jvsc74a57bd006b8eb94f0b515da75d0fb978497b6738ceaa7df877e7656aab8a0af545f76e7",
   "display_name": "Python 3.6.13 64-bit ('hfnet': conda)"
  },
  "language_info": {
   "codemirror_mode": {
    "name": "ipython",
    "version": 3
   },
   "file_extension": ".py",
   "mimetype": "text/x-python",
   "name": "python",
   "nbconvert_exporter": "python",
   "pygments_lexer": "ipython3",
   "version": "3.6.13"
  },
  "metadata": {
   "interpreter": {
    "hash": "06b8eb94f0b515da75d0fb978497b6738ceaa7df877e7656aab8a0af545f76e7"
   }
  }
 },
 "nbformat": 4,
 "nbformat_minor": 2
}