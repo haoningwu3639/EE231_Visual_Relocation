{
 "cells": [
  {
   "cell_type": "code",
   "execution_count": null,
   "metadata": {
    "collapsed": true
   },
   "outputs": [],
   "source": [
    "import cv2\n",
    "import numpy as np\n",
    "from pathlib import Path\n",
    "from superpoint.datasets.patches_dataset import PatchesDataset\n",
    "from utils import plot_imgs\n",
    "from superpoint.models.classical_detectors_descriptors import classical_detector_descriptor\n",
    "\n",
    "from superpoint.settings import DATA_PATH\n",
    "%load_ext autoreload\n",
    "%autoreload 2\n",
    "%matplotlib inline"
   ]
  },
  {
   "cell_type": "code",
   "execution_count": null,
   "metadata": {
    "collapsed": true,
    "scrolled": false
   },
   "outputs": [],
   "source": [
    "config = {'name': 'patches_dataset', 'dataset': 'hpatches', 'alteration': 'v', 'preprocessing': {'resize': [240, 360]}} #'truncate': 50, \n",
    "dataset = PatchesDataset(**config)\n",
    "data = dataset.get_test_set()"
   ]
  },
  {
   "cell_type": "code",
   "execution_count": null,
   "metadata": {
    "collapsed": true
   },
   "outputs": [],
   "source": [
    "def draw_keypoints(img, corners, color):\n",
    "    keypoints = [cv2.KeyPoint(c[1], c[0], 1) for c in np.stack(corners).T]\n",
    "    return cv2.drawKeypoints(img.astype(np.uint8), keypoints, None, color=color)"
   ]
  },
  {
   "cell_type": "code",
   "execution_count": null,
   "metadata": {
    "scrolled": false
   },
   "outputs": [],
   "source": [
    "image = cv2.imread(str(Path(DATA_PATH, \"HPatches/v_eastsouth/\", \"1.ppm\")), 0)\n",
    "sift_points, sift_desc = classical_detector_descriptor(image, **{'method': 'sift'})\n",
    "sift_points = np.where(sift_points)\n",
    "orb_points, orb_desc = classical_detector_descriptor(image, **{'method': 'orb'})\n",
    "orb_points = np.where(orb_points)\n",
    "\n",
    "sift_img = draw_keypoints(image.copy() * 255, sift_points, (0, 255, 0))\n",
    "orb_img = draw_keypoints(image.copy() * 255, orb_points, (0, 255, 0))\n",
    "\n",
    "plot_imgs([sift_img / 255., orb_img / 255.], titles=['SIFT detections', 'ORB detections'], dpi=200, cmap='gray')"
   ]
  },
  {
   "cell_type": "code",
   "execution_count": null,
   "metadata": {
    "collapsed": true
   },
   "outputs": [],
   "source": []
  }
 ],
 "metadata": {
  "kernelspec": {
   "display_name": "Python 3",
   "language": "python",
   "name": "python3"
  },
  "language_info": {
   "codemirror_mode": {
    "name": "ipython",
    "version": 3
   },
   "file_extension": ".py",
   "mimetype": "text/x-python",
   "name": "python",
   "nbconvert_exporter": "python",
   "pygments_lexer": "ipython3",
   "version": "3.7.5"
  }
 },
 "nbformat": 4,
 "nbformat_minor": 2
}