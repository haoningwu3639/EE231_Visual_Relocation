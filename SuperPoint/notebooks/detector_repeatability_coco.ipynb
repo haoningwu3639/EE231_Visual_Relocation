{
 "cells": [
  {
   "cell_type": "code",
   "execution_count": null,
   "metadata": {},
   "outputs": [],
   "source": [
    "import cv2\n",
    "import numpy as np\n",
    "import matplotlib.pyplot as plt\n",
    "from pathlib import Path\n",
    "\n",
    "from superpoint.settings import EXPER_PATH\n",
    "import superpoint.evaluations.detector_evaluation as ev\n",
    "from utils import plot_imgs\n",
    "%matplotlib inline\n",
    "%load_ext autoreload\n",
    "%autoreload 2"
   ]
  },
  {
   "cell_type": "code",
   "execution_count": null,
   "metadata": {},
   "outputs": [],
   "source": [
    "experiments = [\n",
    "    'mp_synth-v6_photo-hom-aug_ha2-100-3-old_coco-repeat', 'harris_coco-repeat']\n",
    "confidence_thresholds = [0.015, 0]"
   ]
  },
  {
   "cell_type": "markdown",
   "metadata": {},
   "source": [
    "# Patches visualization"
   ]
  },
  {
   "cell_type": "code",
   "execution_count": null,
   "metadata": {},
   "outputs": [],
   "source": [
    "def draw_keypoints(img, corners, color=(0, 255, 0), radius=3, s=3):\n",
    "    img = np.repeat(cv2.resize(img, None, fx=s, fy=s)[..., np.newaxis], 3, -1)\n",
    "    for c in np.stack(corners).T:\n",
    "        cv2.circle(img, tuple(s*np.flip(c, 0)), radius, color, thickness=-1)\n",
    "    return img\n",
    "def select_top_k(prob, thresh=0, num=300):    \n",
    "    pts = np.where(prob > thresh)\n",
    "    idx = np.argsort(prob[pts])[::-1][:num]\n",
    "    pts = (pts[0][idx], pts[1][idx])\n",
    "    return pts"
   ]
  },
  {
   "cell_type": "code",
   "execution_count": null,
   "metadata": {
    "scrolled": false
   },
   "outputs": [],
   "source": [
    "for i in range(4):\n",
    "    for e, thresh in zip(experiments, confidence_thresholds):\n",
    "        path = Path(EXPER_PATH, \"outputs\", e, str(i) + \".npz\")\n",
    "        d = np.load(path)\n",
    "        \n",
    "        points1 = select_top_k(d['prob'], thresh=thresh)\n",
    "        im1 = draw_keypoints(d['image'][..., 0] * 255, points1, (0, 255, 0)) / 255.\n",
    "        \n",
    "        points2 = select_top_k(d['warped_prob'], thresh=thresh)\n",
    "        im2 = draw_keypoints(d['warped_image'] * 255, points2, (0, 255, 0)) / 255.\n",
    "\n",
    "        plot_imgs([im1, im2], ylabel=e, dpi=200, cmap='gray',\n",
    "                  titles=[str(len(points1[0]))+' points', str(len(points2[0]))+' points'])"
   ]
  },
  {
   "cell_type": "markdown",
   "metadata": {},
   "source": [
    "# Repeatability"
   ]
  },
  {
   "cell_type": "code",
   "execution_count": null,
   "metadata": {},
   "outputs": [],
   "source": [
    "for exp, thresh in zip(experiments, confidence_thresholds):\n",
    "    repeatability = ev.compute_repeatability(exp, keep_k_points=300, distance_thresh=3)\n",
    "    print('> {}: {}'.format(exp, repeatability))"
   ]
  },
  {
   "cell_type": "code",
   "execution_count": null,
   "metadata": {},
   "outputs": [],
   "source": []
  },
  {
   "cell_type": "markdown",
   "metadata": {},
   "source": [
    "# Visual proof that the true keypoints are warped as expected"
   ]
  },
  {
   "cell_type": "code",
   "execution_count": null,
   "metadata": {},
   "outputs": [],
   "source": [
    "def get_true_keypoints(exper_name, prob_thresh=0.5):\n",
    "    def warp_keypoints(keypoints, H):\n",
    "        warped_col0 = np.add(np.sum(np.multiply(keypoints, H[0, :2]), axis=1), H[0, 2])\n",
    "        warped_col1 = np.add(np.sum(np.multiply(keypoints, H[1, :2]), axis=1), H[1, 2])\n",
    "        warped_col2 = np.add(np.sum(np.multiply(keypoints, H[2, :2]), axis=1), H[2, 2])\n",
    "        warped_col0 = np.divide(warped_col0, warped_col2)\n",
    "        warped_col1 = np.divide(warped_col1, warped_col2)\n",
    "        new_keypoints = np.concatenate([warped_col0[:, None], warped_col1[:, None]],\n",
    "                                       axis=1)\n",
    "        return new_keypoints\n",
    "\n",
    "    def filter_keypoints(points, shape):\n",
    "        \"\"\" Keep only the points whose coordinates are\n",
    "        inside the dimensions of shape. \"\"\"\n",
    "        mask = (points[:, 0] >= 0) & (points[:, 0] < shape[0]) &\\\n",
    "               (points[:, 1] >= 0) & (points[:, 1] < shape[1])\n",
    "        return points[mask, :]\n",
    "    \n",
    "    true_keypoints = []\n",
    "    for i in range(5):\n",
    "        path = Path(EXPER_PATH, \"outputs\", exper_name, str(i) + \".npz\")\n",
    "        data = np.load(path)\n",
    "        shape = data['warped_prob'].shape\n",
    "\n",
    "        # Filter out predictions\n",
    "        keypoints = np.where(data['prob'] > prob_thresh)\n",
    "        keypoints = np.stack([keypoints[0], keypoints[1]], axis=-1)\n",
    "        warped_keypoints = np.where(data['warped_prob'] > prob_thresh)\n",
    "        warped_keypoints = np.stack([warped_keypoints[0], warped_keypoints[1]], axis=-1)\n",
    "\n",
    "        # Warp the original keypoints with the true homography\n",
    "        H = data['homography']\n",
    "        true_warped_keypoints = warp_keypoints(keypoints[:, [1, 0]], H)\n",
    "        true_warped_keypoints[:, [0, 1]] = true_warped_keypoints[:, [1, 0]]\n",
    "        true_warped_keypoints = filter_keypoints(true_warped_keypoints, shape)\n",
    "        true_keypoints.append((true_warped_keypoints[:, 0], true_warped_keypoints[:, 1]))\n",
    "        \n",
    "    return true_keypoints"
   ]
  },
  {
   "cell_type": "code",
   "execution_count": null,
   "metadata": {
    "collapsed": true
   },
   "outputs": [],
   "source": [
    "true_keypoints = get_true_keypoints('magic-point_coco_repeatability', 0.015)\n",
    "for i in range(3):\n",
    "    e = 'magic-point_coco_repeatability'\n",
    "    thresh = 0.015\n",
    "    path = Path(EXPER_PATH, \"outputs\", e, str(i) + \".npz\")\n",
    "    d = np.load(path)\n",
    "        \n",
    "    points1 = np.where(d['prob'] > thresh)\n",
    "    im1 = draw_keypoints(d['image'][..., 0] * 255, points1, (0, 255, 0)) / 255.\n",
    "        \n",
    "    points2 = true_keypoints[i]\n",
    "    im2 = draw_keypoints(d['warped_image'][..., 0] * 255, points2, (0, 255, 0)) / 255.\n",
    "        \n",
    "    plot_imgs([im1, im2], titles=['Original', 'Original points warped'], dpi=200, cmap='gray')"
   ]
  }
 ],
 "metadata": {
  "kernelspec": {
   "display_name": "Python 3",
   "language": "python",
   "name": "python3"
  },
  "language_info": {
   "codemirror_mode": {
    "name": "ipython",
    "version": 3
   },
   "file_extension": ".py",
   "mimetype": "text/x-python",
   "name": "python",
   "nbconvert_exporter": "python",
   "pygments_lexer": "ipython3",
   "version": "3.7.5"
  }
 },
 "nbformat": 4,
 "nbformat_minor": 2
}