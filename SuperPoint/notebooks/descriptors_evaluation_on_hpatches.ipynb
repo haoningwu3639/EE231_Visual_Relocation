{
 "cells": [
  {
   "cell_type": "code",
   "execution_count": null,
   "metadata": {},
   "outputs": [],
   "source": [
    "import cv2\n",
    "import numpy as np\n",
    "import matplotlib.pyplot as plt\n",
    "from pathlib import Path\n",
    "\n",
    "from superpoint.settings import EXPER_PATH\n",
    "import superpoint.evaluations.descriptor_evaluation as ev\n",
    "from utils import plot_imgs\n",
    "%matplotlib inline\n",
    "%load_ext autoreload\n",
    "%autoreload 2"
   ]
  },
  {
   "cell_type": "code",
   "execution_count": null,
   "metadata": {},
   "outputs": [],
   "source": [
    "def draw_matches(data):\n",
    "    keypoints1 = [cv2.KeyPoint(p[1], p[0], 1) for p in data['keypoints1']]\n",
    "    keypoints2 = [cv2.KeyPoint(p[1], p[0], 1) for p in data['keypoints2']]\n",
    "    inliers = data['inliers'].astype(bool)\n",
    "    matches = np.array(data['matches'])[inliers].tolist()\n",
    "    img1 = np.concatenate([output['image1'], output['image1'], output['image1']], axis=2) * 255\n",
    "    img2 = np.concatenate([output['image2'], output['image2'], output['image2']], axis=2) * 255\n",
    "    return cv2.drawMatches(img1, keypoints1, img2, keypoints2, matches,\n",
    "                           None, matchColor=(0,255,0), singlePointColor=(0, 0, 255))"
   ]
  },
  {
   "cell_type": "markdown",
   "metadata": {},
   "source": [
    "# Changes in viewpoint"
   ]
  },
  {
   "cell_type": "code",
   "execution_count": null,
   "metadata": {},
   "outputs": [],
   "source": [
    "experiments = ['superpoint_hpatches-v', 'sift_v', 'orb_v']"
   ]
  },
  {
   "cell_type": "markdown",
   "metadata": {},
   "source": [
    "### Images visualization"
   ]
  },
  {
   "cell_type": "code",
   "execution_count": null,
   "metadata": {
    "scrolled": false
   },
   "outputs": [],
   "source": [
    "num_images = 2\n",
    "for e in experiments:\n",
    "    print(e)\n",
    "    orb = True if e[:3] == 'orb' else False\n",
    "    outputs = ev.get_homography_matches(e, keep_k_points=1000, correctness_thresh=3, num_images=num_images, orb=orb)\n",
    "    for output in outputs:\n",
    "        img = draw_matches(output) / 255.\n",
    "        plot_imgs([img], titles=[e], dpi=200)"
   ]
  },
  {
   "cell_type": "markdown",
   "metadata": {},
   "source": [
    "### Homography estimation correctness"
   ]
  },
  {
   "cell_type": "code",
   "execution_count": null,
   "metadata": {
    "scrolled": true,
    "tags": [
     "outputPrepend"
    ]
   },
   "outputs": [],
   "source": [
    "for exp in experiments:\n",
    "    orb = True if exp[:3] == 'orb' else False\n",
    "    print(exp)\n",
    "    correctness = ev.homography_estimation(exp, keep_k_points=1000, correctness_thresh=3, orb=orb)\n",
    "    print('> {}: {}'.format(exp, correctness))"
   ]
  },
  {
   "cell_type": "markdown",
   "metadata": {},
   "source": [
    "### Check that the image is warped correctly"
   ]
  },
  {
   "cell_type": "code",
   "execution_count": null,
   "metadata": {
    "scrolled": false
   },
   "outputs": [],
   "source": [
    "num_images = 2\n",
    "for e in experiments:\n",
    "    orb = True if e[:3] == 'orb' else False\n",
    "    outputs = ev.get_homography_matches(e, keep_k_points=1000, correctness_thresh=3, num_images=num_images, orb=orb)\n",
    "    for output in outputs:\n",
    "        img1 = output['image1'] * 255\n",
    "        img2 = output['image2'] * 255\n",
    "        H = output['homography']\n",
    "        warped_img1 = cv2.warpPerspective(img1, H, (img2.shape[1], img2.shape[0]))\n",
    "        img1 = np.concatenate([img1, img1, img1], axis=2)\n",
    "        warped_img1 = np.stack([warped_img1, warped_img1, warped_img1], axis=2)\n",
    "        img2 = np.concatenate([img2, img2, img2], axis=2)\n",
    "        plot_imgs([img1 / 255., img2 / 255., warped_img1 / 255.], titles=['img1', 'img2', 'warped_img1'], dpi=200)"
   ]
  },
  {
   "cell_type": "markdown",
   "metadata": {},
   "source": [
    "# Changes in illumination"
   ]
  },
  {
   "cell_type": "code",
   "execution_count": null,
   "metadata": {},
   "outputs": [],
   "source": [
    "experiments = ['sift_i', 'orb_i', 'superpoint_hpatches_i']"
   ]
  },
  {
   "cell_type": "markdown",
   "metadata": {
    "scrolled": false
   },
   "source": [
    "### Images visualization"
   ]
  },
  {
   "cell_type": "code",
   "execution_count": null,
   "metadata": {
    "scrolled": false
   },
   "outputs": [],
   "source": [
    "num_images = 2\n",
    "for e in experiments:\n",
    "    orb = True if e[:3] == 'orb' else False\n",
    "    outputs = ev.get_homography_matches(e, keep_k_points=1000, correctness_thresh=3, num_images=num_images, orb=orb)\n",
    "    for output in outputs:\n",
    "        img = draw_matches(output) / 255.\n",
    "        plot_imgs([img], titles=[e], dpi=200, cmap='gray')"
   ]
  },
  {
   "cell_type": "markdown",
   "metadata": {},
   "source": [
    "### Homography estimation correctness"
   ]
  },
  {
   "cell_type": "code",
   "execution_count": null,
   "metadata": {
    "tags": [
     "outputPrepend"
    ]
   },
   "outputs": [],
   "source": [
    "for exp in experiments:\n",
    "    print(exp)\n",
    "    orb = True if exp[:3] == 'orb' else False\n",
    "    correctness = ev.homography_estimation(exp, keep_k_points=1000, correctness_thresh=3, orb=orb)\n",
    "    print('> {}: {}'.format(exp, correctness))"
   ]
  }
 ],
 "metadata": {
  "kernelspec": {
   "name": "python3613jvsc74a57bd006b8eb94f0b515da75d0fb978497b6738ceaa7df877e7656aab8a0af545f76e7",
   "display_name": "Python 3.6.13 64-bit ('hfnet': conda)"
  },
  "language_info": {
   "codemirror_mode": {
    "name": "ipython",
    "version": 3
   },
   "file_extension": ".py",
   "mimetype": "text/x-python",
   "name": "python",
   "nbconvert_exporter": "python",
   "pygments_lexer": "ipython3",
   "version": "3.6.13"
  },
  "metadata": {
   "interpreter": {
    "hash": "06b8eb94f0b515da75d0fb978497b6738ceaa7df877e7656aab8a0af545f76e7"
   }
  }
 },
 "nbformat": 4,
 "nbformat_minor": 2
}