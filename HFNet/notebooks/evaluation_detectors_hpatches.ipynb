{
 "cells": [
  {
   "cell_type": "code",
   "execution_count": 1,
   "metadata": {},
   "outputs": [],
   "source": [
    "from hfnet.datasets.hpatches import Hpatches\n",
    "from hfnet.evaluation.loaders import sift_loader, export_loader, fast_loader, harris_loader\n",
    "from hfnet.evaluation.keypoint_detectors import evaluate\n",
    "from hfnet.utils import tools\n",
    "\n",
    "import os \n",
    "os.environ['CUDA_VISIBLE_DEVICES'] = '1'\n",
    "%load_ext autoreload\n",
    "%autoreload 2"
   ]
  },
  {
   "cell_type": "code",
   "execution_count": 2,
   "metadata": {},
   "outputs": [],
   "source": [
    "data_config = {'make_pairs': True, 'shuffle': True}\n",
    "dataset = Hpatches(**data_config)"
   ]
  },
  {
   "cell_type": "code",
   "execution_count": 5,
   "metadata": {},
   "outputs": [],
   "source": [
    "all_configs = {\n",
    "    'hfnet': {\n",
    "        'experiment': 'hfnet/hpatches',\n",
    "        'predictor': export_loader,\n",
    "    },\n",
    "    'hfnet_ours': {\n",
    "        'experiment': 'hfnet_ours/predictions_hpatches',\n",
    "        'predictor': export_loader,\n",
    "    },\n",
    "    'sift': {\n",
    "        'predictor': sift_loader,\n",
    "        'do_nms': False,\n",
    "        'nms_thresh': 4,\n",
    "    },\n",
    "    'fast': {\n",
    "        'predictor': fast_loader,\n",
    "        'do_nms': True,\n",
    "        'nms_thresh': 4,\n",
    "    },\n",
    "    'harris': {\n",
    "        'predictor': harris_loader,\n",
    "        'do_nms': True,\n",
    "        'nms_thresh': 4,\n",
    "    },\n",
    "    'superpoint': {\n",
    "        'experiment': 'super_point_pytorch/hpatches',\n",
    "        'predictor': export_loader,\n",
    "        'do_nms': True,\n",
    "        'nms_thresh': 4,\n",
    "        'remove_borders': 4,\n",
    "    },\n",
    "    'lfnet': {\n",
    "        'experiment': 'lfnet/hpatches',\n",
    "        'nms_thresh': 4,\n",
    "        'predictor': export_loader,\n",
    "    },\n",
    "}\n",
    "eval_config = {'correct_match_thresh': 3, 'num_features': 300}"
   ]
  },
  {
   "cell_type": "markdown",
   "metadata": {},
   "source": [
    "# Metrics"
   ]
  },
  {
   "cell_type": "code",
   "execution_count": 4,
   "metadata": {},
   "outputs": [
    {
     "output_type": "stream",
     "name": "stderr",
     "text": [
      "580it [1:09:16,  7.17s/it]\n",
      "0it [00:00, ?it/s]> hfnet\n",
      "average_num_keypoints     500.000\n",
      "localization_error        0.975\n",
      "repeatability             0.499\n",
      "mAP                       0.429\n",
      "{'experiment': 'hfnet/hpatches', 'predictor': <function export_loader at 0x7fe32b197d08>, 'correct_match_thresh': 3, 'num_features': 500}\n",
      "580it [1:10:04,  7.25s/it]\n",
      "0it [00:00, ?it/s]> hfnet_ours\n",
      "average_num_keypoints     500.000\n",
      "localization_error        0.969\n",
      "repeatability             0.509\n",
      "mAP                       0.418\n",
      "{'experiment': 'hfnet_ours/predictions_hpatches', 'predictor': <function export_loader at 0x7fe32b197d08>, 'correct_match_thresh': 3, 'num_features': 500}\n",
      "580it [01:48,  5.33it/s]\n",
      "0it [00:00, ?it/s]> sift\n",
      "average_num_keypoints     499.885\n",
      "localization_error        0.968\n",
      "repeatability             0.327\n",
      "mAP                       0.118\n",
      "{'predictor': <function sift_loader at 0x7fe3330d2f28>, 'do_nms': False, 'nms_thresh': 8, 'correct_match_thresh': 3, 'num_features': 500}\n",
      "580it [02:28,  3.90it/s]\n",
      "0it [00:00, ?it/s]> harris\n",
      "average_num_keypoints     477.905\n",
      "localization_error        1.215\n",
      "repeatability             0.493\n",
      "mAP                       0.285\n",
      "{'predictor': <function harris_loader at 0x7fe32b197c80>, 'do_nms': True, 'nms_thresh': 8, 'correct_match_thresh': 3, 'num_features': 500}\n",
      "580it [00:44, 13.10it/s]\n",
      "0it [00:00, ?it/s]> fast\n",
      "average_num_keypoints     484.231\n",
      "localization_error        1.151\n",
      "repeatability             0.402\n",
      "mAP                       0.197\n",
      "{'predictor': <function fast_loader at 0x7fe32b197bf8>, 'do_nms': True, 'nms_thresh': 8, 'correct_match_thresh': 3, 'num_features': 500}\n",
      "580it [02:20,  4.12it/s]\n",
      "0it [00:00, ?it/s]> superpoint\n",
      "average_num_keypoints     464.888\n",
      "localization_error        1.127\n",
      "repeatability             0.537\n",
      "mAP                       0.342\n",
      "{'experiment': 'super_point_pytorch/hpatches', 'predictor': <function export_loader at 0x7fe32b197d08>, 'do_nms': True, 'nms_thresh': 8, 'remove_borders': 4, 'correct_match_thresh': 3, 'num_features': 500}\n",
      "0it [00:00, ?it/s]\n"
     ]
    },
    {
     "output_type": "error",
     "ename": "FileNotFoundError",
     "evalue": "[Errno 2] No such file or directory: '/GPFS/data/haoningwu/HFNet/exports/lfnet/hpatches_kpts-500/v_vitro/2.npz'",
     "traceback": [
      "\u001b[0;31m---------------------------------------------------------------------------\u001b[0m",
      "\u001b[0;31mFileNotFoundError\u001b[0m                         Traceback (most recent call last)",
      "\u001b[0;32m<ipython-input-4-d9f801d6ea20>\u001b[0m in \u001b[0;36m<module>\u001b[0;34m\u001b[0m\n\u001b[1;32m      4\u001b[0m     \u001b[0mconfig\u001b[0m \u001b[0;34m=\u001b[0m \u001b[0mtools\u001b[0m\u001b[0;34m.\u001b[0m\u001b[0mdict_update\u001b[0m\u001b[0;34m(\u001b[0m\u001b[0mconfig\u001b[0m\u001b[0;34m,\u001b[0m \u001b[0meval_config\u001b[0m\u001b[0;34m)\u001b[0m\u001b[0;34m\u001b[0m\u001b[0;34m\u001b[0m\u001b[0m\n\u001b[1;32m      5\u001b[0m     \u001b[0mdata_iter\u001b[0m \u001b[0;34m=\u001b[0m \u001b[0mdataset\u001b[0m\u001b[0;34m.\u001b[0m\u001b[0mget_test_set\u001b[0m\u001b[0;34m(\u001b[0m\u001b[0;34m)\u001b[0m\u001b[0;34m\u001b[0m\u001b[0;34m\u001b[0m\u001b[0m\n\u001b[0;32m----> 6\u001b[0;31m     \u001b[0mmetrics\u001b[0m\u001b[0;34m,\u001b[0m \u001b[0m_\u001b[0m\u001b[0;34m,\u001b[0m \u001b[0m_\u001b[0m\u001b[0;34m,\u001b[0m \u001b[0m_\u001b[0m \u001b[0;34m=\u001b[0m \u001b[0mevaluate\u001b[0m\u001b[0;34m(\u001b[0m\u001b[0mdata_iter\u001b[0m\u001b[0;34m,\u001b[0m \u001b[0mconfig\u001b[0m\u001b[0;34m,\u001b[0m \u001b[0mis_2d\u001b[0m\u001b[0;34m=\u001b[0m\u001b[0;32mTrue\u001b[0m\u001b[0;34m)\u001b[0m\u001b[0;34m\u001b[0m\u001b[0;34m\u001b[0m\u001b[0m\n\u001b[0m\u001b[1;32m      7\u001b[0m \u001b[0;34m\u001b[0m\u001b[0m\n\u001b[1;32m      8\u001b[0m     \u001b[0mprint\u001b[0m\u001b[0;34m(\u001b[0m\u001b[0;34m'> {}'\u001b[0m\u001b[0;34m.\u001b[0m\u001b[0mformat\u001b[0m\u001b[0;34m(\u001b[0m\u001b[0mmethod\u001b[0m\u001b[0;34m)\u001b[0m\u001b[0;34m)\u001b[0m\u001b[0;34m\u001b[0m\u001b[0;34m\u001b[0m\u001b[0m\n",
      "\u001b[0;32m/GPFS/data/haoningwu/HFNet/hfnet/evaluation/keypoint_detectors.py\u001b[0m in \u001b[0;36mevaluate\u001b[0;34m(data_iter, config, is_2d)\u001b[0m\n\u001b[1;32m     37\u001b[0m         \u001b[0mshape2\u001b[0m \u001b[0;34m=\u001b[0m \u001b[0mdata\u001b[0m\u001b[0;34m[\u001b[0m\u001b[0;34m'image2'\u001b[0m\u001b[0;34m]\u001b[0m\u001b[0;34m.\u001b[0m\u001b[0mshape\u001b[0m\u001b[0;34m[\u001b[0m\u001b[0;34m:\u001b[0m\u001b[0;36m2\u001b[0m\u001b[0;34m]\u001b[0m\u001b[0;34m[\u001b[0m\u001b[0;34m:\u001b[0m\u001b[0;34m:\u001b[0m\u001b[0;34m-\u001b[0m\u001b[0;36m1\u001b[0m\u001b[0;34m]\u001b[0m\u001b[0;34m\u001b[0m\u001b[0;34m\u001b[0m\u001b[0m\n\u001b[1;32m     38\u001b[0m         pred1 = config['predictor'](\n\u001b[0;32m---> 39\u001b[0;31m             data['image'], data['name'], **config)\n\u001b[0m\u001b[1;32m     40\u001b[0m         pred2 = config['predictor'](\n\u001b[1;32m     41\u001b[0m             data['image2'], data['name2'], **config)\n",
      "\u001b[0;32m/GPFS/data/haoningwu/HFNet/hfnet/evaluation/loaders.py\u001b[0m in \u001b[0;36mexport_loader\u001b[0;34m(image, name, experiment, **config)\u001b[0m\n\u001b[1;32m     79\u001b[0m     \u001b[0mname\u001b[0m \u001b[0;34m=\u001b[0m \u001b[0mname\u001b[0m\u001b[0;34m.\u001b[0m\u001b[0mdecode\u001b[0m\u001b[0;34m(\u001b[0m\u001b[0;34m'utf-8'\u001b[0m\u001b[0;34m)\u001b[0m \u001b[0;32mif\u001b[0m \u001b[0misinstance\u001b[0m\u001b[0;34m(\u001b[0m\u001b[0mname\u001b[0m\u001b[0;34m,\u001b[0m \u001b[0mbytes\u001b[0m\u001b[0;34m)\u001b[0m \u001b[0;32melse\u001b[0m \u001b[0mname\u001b[0m\u001b[0;34m\u001b[0m\u001b[0;34m\u001b[0m\u001b[0m\n\u001b[1;32m     80\u001b[0m     \u001b[0mpath\u001b[0m \u001b[0;34m=\u001b[0m \u001b[0mPath\u001b[0m\u001b[0;34m(\u001b[0m\u001b[0mEXPER_PATH\u001b[0m\u001b[0;34m,\u001b[0m \u001b[0;34m'exports'\u001b[0m\u001b[0;34m,\u001b[0m \u001b[0mexperiment\u001b[0m\u001b[0;34m,\u001b[0m \u001b[0mname\u001b[0m\u001b[0;34m+\u001b[0m\u001b[0;34m'.npz'\u001b[0m\u001b[0;34m)\u001b[0m\u001b[0;34m\u001b[0m\u001b[0;34m\u001b[0m\u001b[0m\n\u001b[0;32m---> 81\u001b[0;31m     \u001b[0;32mwith\u001b[0m \u001b[0mnp\u001b[0m\u001b[0;34m.\u001b[0m\u001b[0mload\u001b[0m\u001b[0;34m(\u001b[0m\u001b[0mpath\u001b[0m\u001b[0;34m)\u001b[0m \u001b[0;32mas\u001b[0m \u001b[0mp\u001b[0m\u001b[0;34m:\u001b[0m\u001b[0;34m\u001b[0m\u001b[0;34m\u001b[0m\u001b[0m\n\u001b[0m\u001b[1;32m     82\u001b[0m         \u001b[0mpred\u001b[0m \u001b[0;34m=\u001b[0m \u001b[0;34m{\u001b[0m\u001b[0mk\u001b[0m\u001b[0;34m:\u001b[0m \u001b[0mv\u001b[0m\u001b[0;34m.\u001b[0m\u001b[0mcopy\u001b[0m\u001b[0;34m(\u001b[0m\u001b[0;34m)\u001b[0m \u001b[0;32mfor\u001b[0m \u001b[0mk\u001b[0m\u001b[0;34m,\u001b[0m \u001b[0mv\u001b[0m \u001b[0;32min\u001b[0m \u001b[0mp\u001b[0m\u001b[0;34m.\u001b[0m\u001b[0mitems\u001b[0m\u001b[0;34m(\u001b[0m\u001b[0;34m)\u001b[0m\u001b[0;34m}\u001b[0m\u001b[0;34m\u001b[0m\u001b[0;34m\u001b[0m\u001b[0m\n\u001b[1;32m     83\u001b[0m     \u001b[0mimage_shape\u001b[0m \u001b[0;34m=\u001b[0m \u001b[0mimage\u001b[0m\u001b[0;34m.\u001b[0m\u001b[0mshape\u001b[0m\u001b[0;34m[\u001b[0m\u001b[0;34m:\u001b[0m\u001b[0;36m2\u001b[0m\u001b[0;34m]\u001b[0m\u001b[0;34m\u001b[0m\u001b[0;34m\u001b[0m\u001b[0m\n",
      "\u001b[0;32m~/anaconda3/envs/hfnet/lib/python3.6/site-packages/numpy/lib/npyio.py\u001b[0m in \u001b[0;36mload\u001b[0;34m(file, mmap_mode, allow_pickle, fix_imports, encoding)\u001b[0m\n\u001b[1;32m    414\u001b[0m             \u001b[0mown_fid\u001b[0m \u001b[0;34m=\u001b[0m \u001b[0;32mFalse\u001b[0m\u001b[0;34m\u001b[0m\u001b[0;34m\u001b[0m\u001b[0m\n\u001b[1;32m    415\u001b[0m         \u001b[0;32melse\u001b[0m\u001b[0;34m:\u001b[0m\u001b[0;34m\u001b[0m\u001b[0;34m\u001b[0m\u001b[0m\n\u001b[0;32m--> 416\u001b[0;31m             \u001b[0mfid\u001b[0m \u001b[0;34m=\u001b[0m \u001b[0mstack\u001b[0m\u001b[0;34m.\u001b[0m\u001b[0menter_context\u001b[0m\u001b[0;34m(\u001b[0m\u001b[0mopen\u001b[0m\u001b[0;34m(\u001b[0m\u001b[0mos_fspath\u001b[0m\u001b[0;34m(\u001b[0m\u001b[0mfile\u001b[0m\u001b[0;34m)\u001b[0m\u001b[0;34m,\u001b[0m \u001b[0;34m\"rb\"\u001b[0m\u001b[0;34m)\u001b[0m\u001b[0;34m)\u001b[0m\u001b[0;34m\u001b[0m\u001b[0;34m\u001b[0m\u001b[0m\n\u001b[0m\u001b[1;32m    417\u001b[0m             \u001b[0mown_fid\u001b[0m \u001b[0;34m=\u001b[0m \u001b[0;32mTrue\u001b[0m\u001b[0;34m\u001b[0m\u001b[0;34m\u001b[0m\u001b[0m\n\u001b[1;32m    418\u001b[0m \u001b[0;34m\u001b[0m\u001b[0m\n",
      "\u001b[0;31mFileNotFoundError\u001b[0m: [Errno 2] No such file or directory: '/GPFS/data/haoningwu/HFNet/exports/lfnet/hpatches_kpts-500/v_vitro/2.npz'"
     ]
    }
   ],
   "source": [
    "methods = ['hfnet', 'hfnet_ours', 'sift', 'harris', 'fast', 'superpoint', 'lfnet']\n",
    "configs = {m: all_configs[m] for m in methods}\n",
    "for method, config in configs.items():\n",
    "    config = tools.dict_update(config, eval_config)\n",
    "    data_iter = dataset.get_test_set()\n",
    "    metrics, _, _, _ = evaluate(data_iter, config, is_2d=True)\n",
    "    \n",
    "    print('> {}'.format(method))\n",
    "    for k, v in metrics.items():\n",
    "        print('{:<25} {:.3f}'.format(k, v))\n",
    "    print(config)"
   ]
  },
  {
   "cell_type": "code",
   "execution_count": 18,
   "metadata": {},
   "outputs": [
    {
     "name": "stderr",
     "output_type": "stream",
     "text": [
      "580it [02:53,  4.64it/s]\n",
      "0it [00:00, ?it/s]"
     ]
    },
    {
     "name": "stdout",
     "output_type": "stream",
     "text": [
      "> sift\n",
      "average_num_keypoints     499.885\n",
      "localization_error        0.968\n",
      "repeatability             0.327\n",
      "mAP                       0.118\n",
      "{'predictor': <function sift_loader at 0x2b8d0d668bf8>, 'do_nms': False, 'nms_thresh': 8, 'correct_match_thresh': 3, 'num_features': 500}\n"
     ]
    },
    {
     "name": "stderr",
     "output_type": "stream",
     "text": [
      "580it [03:03,  3.94it/s]\n",
      "0it [00:00, ?it/s]"
     ]
    },
    {
     "name": "stdout",
     "output_type": "stream",
     "text": [
      "> harris\n",
      "average_num_keypoints     477.905\n",
      "localization_error        1.215\n",
      "repeatability             0.493\n",
      "mAP                       0.285\n",
      "{'predictor': <function harris_loader at 0x2b8d0d67b840>, 'do_nms': True, 'nms_thresh': 8, 'correct_match_thresh': 3, 'num_features': 500}\n"
     ]
    },
    {
     "name": "stderr",
     "output_type": "stream",
     "text": [
      "580it [01:22,  7.00it/s]\n",
      "0it [00:00, ?it/s]"
     ]
    },
    {
     "name": "stdout",
     "output_type": "stream",
     "text": [
      "> fast\n",
      "average_num_keypoints     484.231\n",
      "localization_error        1.151\n",
      "repeatability             0.402\n",
      "mAP                       0.197\n",
      "{'predictor': <function fast_loader at 0x2b8d0d67b7b8>, 'do_nms': True, 'nms_thresh': 8, 'correct_match_thresh': 3, 'num_features': 500}\n"
     ]
    },
    {
     "name": "stderr",
     "output_type": "stream",
     "text": [
      "580it [01:38, 13.48it/s]\n",
      "0it [00:00, ?it/s]"
     ]
    },
    {
     "name": "stdout",
     "output_type": "stream",
     "text": [
      "> superpoint\n",
      "average_num_keypoints     464.888\n",
      "localization_error        1.127\n",
      "repeatability             0.537\n",
      "mAP                       0.342\n",
      "{'experiment': 'super_point_pytorch/hpatches', 'predictor': <function export_loader at 0x2b8d0d67b8c8>, 'do_nms': True, 'nms_thresh': 8, 'remove_borders': 4, 'correct_match_thresh': 3, 'num_features': 500}\n"
     ]
    },
    {
     "name": "stderr",
     "output_type": "stream",
     "text": [
      "580it [01:01,  9.41it/s]\n"
     ]
    },
    {
     "name": "stdout",
     "output_type": "stream",
     "text": [
      "> lfnet\n",
      "average_num_keypoints     500.000\n",
      "localization_error        1.184\n",
      "repeatability             0.484\n",
      "mAP                       0.305\n",
      "{'experiment': 'lfnet/hpatches_kpts-500', 'predictor': <function export_loader at 0x2b8d0d67b8c8>, 'correct_match_thresh': 3, 'num_features': 500}\n"
     ]
    }
   ],
   "source": [
    "# NMS=8, N=500"
   ]
  },
  {
   "cell_type": "code",
   "execution_count": 16,
   "metadata": {},
   "outputs": [
    {
     "name": "stderr",
     "output_type": "stream",
     "text": [
      "580it [03:09,  3.93it/s]\n",
      "0it [00:00, ?it/s]"
     ]
    },
    {
     "name": "stdout",
     "output_type": "stream",
     "text": [
      "> sift\n",
      "average_num_keypoints     300.000\n",
      "localization_error        0.944\n",
      "repeatability             0.307\n",
      "mAP                       0.102\n",
      "{'predictor': <function sift_loader at 0x2b8d0d668bf8>, 'do_nms': False, 'nms_thresh': 8, 'correct_match_thresh': 3, 'num_features': 300}\n"
     ]
    },
    {
     "name": "stderr",
     "output_type": "stream",
     "text": [
      "580it [02:58,  4.16it/s]\n",
      "0it [00:00, ?it/s]"
     ]
    },
    {
     "name": "stdout",
     "output_type": "stream",
     "text": [
      "> harris\n",
      "average_num_keypoints     298.979\n",
      "localization_error        1.140\n",
      "repeatability             0.535\n",
      "mAP                       0.334\n",
      "{'predictor': <function harris_loader at 0x2b8d0d67b840>, 'do_nms': True, 'nms_thresh': 4, 'correct_match_thresh': 3, 'num_features': 300}\n"
     ]
    },
    {
     "name": "stderr",
     "output_type": "stream",
     "text": [
      "580it [01:21,  7.14it/s]\n",
      "0it [00:00, ?it/s]"
     ]
    },
    {
     "name": "stdout",
     "output_type": "stream",
     "text": [
      "> fast\n",
      "average_num_keypoints     299.851\n",
      "localization_error        1.095\n",
      "repeatability             0.468\n",
      "mAP                       0.260\n",
      "{'predictor': <function fast_loader at 0x2b8d0d67b7b8>, 'do_nms': True, 'nms_thresh': 4, 'correct_match_thresh': 3, 'num_features': 300}\n"
     ]
    },
    {
     "name": "stderr",
     "output_type": "stream",
     "text": [
      "580it [02:33,  4.89it/s]\n",
      "0it [00:00, ?it/s]"
     ]
    },
    {
     "name": "stdout",
     "output_type": "stream",
     "text": [
      "> superpoint\n",
      "average_num_keypoints     298.055\n",
      "localization_error        1.036\n",
      "repeatability             0.495\n",
      "mAP                       0.276\n",
      "{'experiment': 'super_point_pytorch/hpatches', 'predictor': <function export_loader at 0x2b8d0d67b8c8>, 'do_nms': True, 'nms_thresh': 4, 'remove_borders': 4, 'correct_match_thresh': 3, 'num_features': 300}\n"
     ]
    },
    {
     "name": "stderr",
     "output_type": "stream",
     "text": [
      "580it [01:27,  6.60it/s]"
     ]
    },
    {
     "name": "stdout",
     "output_type": "stream",
     "text": [
      "> lfnet\n",
      "average_num_keypoints     300.000\n",
      "localization_error        1.127\n",
      "repeatability             0.460\n",
      "mAP                       0.273\n",
      "{'experiment': 'lfnet/hpatches_kpts-500', 'predictor': <function export_loader at 0x2b8d0d67b8c8>, 'correct_match_thresh': 3, 'num_features': 300}\n"
     ]
    },
    {
     "name": "stderr",
     "output_type": "stream",
     "text": [
      "\n"
     ]
    }
   ],
   "source": [
    "# NMS=4, N=300"
   ]
  }
 ],
 "metadata": {
  "kernelspec": {
   "display_name": "Python 3",
   "language": "python",
   "name": "python3"
  },
  "language_info": {
   "codemirror_mode": {
    "name": "ipython",
    "version": 3
   },
   "file_extension": ".py",
   "mimetype": "text/x-python",
   "name": "python",
   "nbconvert_exporter": "python",
   "pygments_lexer": "ipython3",
   "version": "3.6.13-final"
  }
 },
 "nbformat": 4,
 "nbformat_minor": 2
}