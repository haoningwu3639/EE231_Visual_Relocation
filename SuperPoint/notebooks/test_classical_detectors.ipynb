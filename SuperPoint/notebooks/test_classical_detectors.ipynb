{
 "cells": [
  {
   "cell_type": "code",
   "execution_count": null,
   "metadata": {},
   "outputs": [],
   "source": [
    "import cv2\n",
    "import numpy as np\n",
    "from superpoint.datasets.synthetic_shapes import SyntheticShapes\n",
    "from utils import plot_imgs\n",
    "\n",
    "%load_ext autoreload\n",
    "%autoreload 2\n",
    "%matplotlib inline"
   ]
  },
  {
   "cell_type": "code",
   "execution_count": null,
   "metadata": {
    "scrolled": false
   },
   "outputs": [],
   "source": [
    "config = {\n",
    "    'primitives': 'all',\n",
    "    'on-the-fly': True,\n",
    "    'preprocessing': {\n",
    "        'resize': [240, 320],\n",
    "        'blur_size': 11,\n",
    "    }\n",
    "}\n",
    "dataset = SyntheticShapes(**config)\n",
    "data = dataset.get_test_set()"
   ]
  },
  {
   "cell_type": "code",
   "execution_count": null,
   "metadata": {},
   "outputs": [],
   "source": [
    "def harris(img):\n",
    "    return cv2.cornerHarris(img, 4, 3, 0.04)\n",
    "def shi(img):\n",
    "    detections = np.zeros_like(img, np.float)\n",
    "    thresh = np.linspace(0.0001, 1, 100, endpoint=False)\n",
    "    for t in thresh:\n",
    "        corners = cv2.goodFeaturesToTrack(img, 100, t, 5)\n",
    "        if corners is not None:\n",
    "            corners = corners.astype(np.int)\n",
    "            detections[(corners[:, 0, 1], corners[:, 0, 0])] = t\n",
    "    return detections\n",
    "def fast(img):\n",
    "    detector = cv2.FastFeatureDetector_create(10)\n",
    "    corners = detector.detect(img)\n",
    "    detections = np.zeros_like(img, np.float)\n",
    "    for c in corners:\n",
    "        detections[tuple(np.flip(np.int0(c.pt),0))] = c.response\n",
    "    return detections"
   ]
  },
  {
   "cell_type": "code",
   "execution_count": null,
   "metadata": {},
   "outputs": [],
   "source": [
    "def disp(img):\n",
    "    img = cv2.dilate(img, None)\n",
    "    return img/np.max(img)"
   ]
  },
  {
   "cell_type": "code",
   "execution_count": null,
   "metadata": {
    "scrolled": false
   },
   "outputs": [],
   "source": [
    "for i in range(10):\n",
    "    d = next(data)\n",
    "    im = (d['image'][..., 0] * 255).astype(np.uint8)\n",
    "    plot_imgs([im/255., disp(harris(im)), disp(shi(im)), disp(fast(im))], cmap='gray', dpi=200)"
   ]
  }
 ],
 "metadata": {
  "kernelspec": {
   "display_name": "Python 3",
   "language": "python",
   "name": "python3"
  },
  "language_info": {
   "codemirror_mode": {
    "name": "ipython",
    "version": 3
   },
   "file_extension": ".py",
   "mimetype": "text/x-python",
   "name": "python",
   "nbconvert_exporter": "python",
   "pygments_lexer": "ipython3",
   "version": "3.7.5"
  }
 },
 "nbformat": 4,
 "nbformat_minor": 2
}